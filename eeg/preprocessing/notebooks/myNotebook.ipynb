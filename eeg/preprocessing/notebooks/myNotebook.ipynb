{
 "cells": [
  {
   "cell_type": "code",
   "execution_count": 1,
   "source": [
    "\"\"\"\n",
    "General workflow for importing a new session\n",
    "\"\"\"\n",
    "subject = 'P01' # TODO: change this for each subject\n",
    "verbose = True  # change this for debugging\n",
    "\n",
    "import matplotlib\n",
    "%matplotlib inline\n",
    "\n",
    "from pipeline import Pipeline\n",
    "settings = dict(debug=False, mne_log_level='Info', sfreq=64) # optional pipeline settings\n",
    "pipeline = Pipeline(subject, settings)"
   ],
   "outputs": [
    {
     "output_type": "stream",
     "name": "stdout",
     "text": [
      "debugging !??\n"
     ]
    }
   ],
   "metadata": {
    "collapsed": false
   }
  },
  {
   "cell_type": "code",
   "execution_count": 2,
   "source": [
    "pipeline.load_raw(verbose=verbose)\n",
    "print('done')"
   ],
   "outputs": [
    {
     "output_type": "stream",
     "name": "stdout",
     "text": [
      "Opening raw data file /Users/ahnaaf/Documents/tks/EEG-Shazam/eeg/preprocessing/notebooks/mne/P01-raw.fif...\n",
      "Isotrak not found\n",
      "    Range : 0 ... 2478165 =      0.000 ...  4840.166 secs\n",
      "Ready.\n",
      "Reading 0 ... 2478165  =      0.000 ...  4840.166 secs...\n",
      "EEG channel type selected for re-referencing\n",
      "Applying average reference.\n",
      "Applying a custom EEG reference.\n",
      "done\n"
     ]
    }
   ],
   "metadata": {
    "collapsed": false,
    "scrolled": true
   }
  },
  {
   "cell_type": "code",
   "execution_count": 4,
   "source": [
    " \n",
    "#pipeline.raw.plot_sensors()\n",
    "#pipeline.raw.plot()"
   ],
   "outputs": [],
   "metadata": {
    "collapsed": false,
    "scrolled": true
   }
  },
  {
   "cell_type": "markdown",
   "source": [
    "# Reject Bad Channels"
   ],
   "metadata": {}
  },
  {
   "cell_type": "code",
   "execution_count": 5,
   "source": [
    "# switch to interactive GUI mode to scroll through data\n",
    "%matplotlib tk \n",
    "pipeline.plot_raw();\n",
    "pass"
   ],
   "outputs": [
    {
     "output_type": "stream",
     "name": "stdout",
     "text": [
      "scroll using cursor keys, click on channels to mark as \"bad\"\n"
     ]
    }
   ],
   "metadata": {
    "collapsed": false
   }
  },
  {
   "cell_type": "code",
   "execution_count": null,
   "source": [
    "# switch back to inline mode\n",
    "%matplotlib inline"
   ],
   "outputs": [],
   "metadata": {
    "collapsed": false
   }
  },
  {
   "cell_type": "code",
   "execution_count": null,
   "source": [
    "# pipeline.reset_bad_channels() # use this to reset the channel list if needed"
   ],
   "outputs": [],
   "metadata": {
    "collapsed": true
   }
  },
  {
   "cell_type": "code",
   "execution_count": null,
   "source": [
    "# TODO: change these value manually\n",
    "# If you would rather apply the bandpass filter first, continue until it is applied \n",
    "# and then come back to this cell\n",
    "#pipeline.mark_bad_channels(None, save_to_raw=False) # nothing to change, None will keep old values\n",
    "pipeline.mark_bad_channels(['P8', 'P10', 'T8'], save_to_raw=True)\n",
    "print('done')"
   ],
   "outputs": [],
   "metadata": {
    "collapsed": false
   }
  },
  {
   "cell_type": "code",
   "execution_count": null,
   "source": [
    "pipeline.print_bad_channels()"
   ],
   "outputs": [],
   "metadata": {
    "collapsed": false
   }
  },
  {
   "cell_type": "code",
   "execution_count": null,
   "source": [
    "#Doesn't work\n",
    "pipeline.interpolate_bad_channels() # Note: this will overwrite data"
   ],
   "outputs": [],
   "metadata": {
    "collapsed": false
   }
  },
  {
   "cell_type": "markdown",
   "source": [
    "# Check and Merge Trials"
   ],
   "metadata": {}
  },
  {
   "cell_type": "code",
   "execution_count": null,
   "source": [
    "pipeline.check_trial_events()"
   ],
   "outputs": [],
   "metadata": {
    "collapsed": false,
    "scrolled": true
   }
  },
  {
   "cell_type": "code",
   "execution_count": null,
   "source": [
    "pipeline.check_trial_audio_onset_merge(use_audio_onsets=True, verbose=None)"
   ],
   "outputs": [],
   "metadata": {
    "collapsed": false,
    "scrolled": true
   }
  },
  {
   "cell_type": "code",
   "execution_count": null,
   "source": [
    "pipeline.merge_trial_and_audio_onsets()"
   ],
   "outputs": [],
   "metadata": {
    "collapsed": false
   }
  },
  {
   "cell_type": "markdown",
   "source": [
    "# Check PSD and Channels"
   ],
   "metadata": {}
  },
  {
   "cell_type": "code",
   "execution_count": null,
   "source": [
    "# pipeline.check_psd(fmax=512)\n",
    "# pipeline.check_psd(fmax=35)\n",
    "pipeline.check_psd(fmax=256)\n",
    "pipeline.alt_check_psd()\n",
    "# line noise will probably be visible @ multiples of 60Hz"
   ],
   "outputs": [],
   "metadata": {
    "collapsed": false
   }
  },
  {
   "cell_type": "code",
   "execution_count": null,
   "source": [
    "pipeline.check_channel(0)\n",
    "# quite some drift and movement in the breaks"
   ],
   "outputs": [],
   "metadata": {
    "collapsed": false
   }
  },
  {
   "cell_type": "markdown",
   "source": [
    "# Bandpass Filtering"
   ],
   "metadata": {}
  },
  {
   "cell_type": "code",
   "execution_count": null,
   "source": [
    "pipeline.bandpass_filter()"
   ],
   "outputs": [],
   "metadata": {
    "collapsed": false
   }
  },
  {
   "cell_type": "code",
   "execution_count": null,
   "source": [
    "%matplotlib tk \n",
    "pipeline.plot_raw();\n",
    "pass"
   ],
   "outputs": [],
   "metadata": {
    "collapsed": false
   }
  },
  {
   "cell_type": "code",
   "execution_count": null,
   "source": [
    "%matplotlib inline"
   ],
   "outputs": [],
   "metadata": {
    "collapsed": true
   }
  },
  {
   "cell_type": "code",
   "execution_count": null,
   "source": [
    "pipeline.check_channel(0)\n",
    "# looks like we got rid of that drift - nice!\n",
    "# what's that? eyeblinks?"
   ],
   "outputs": [],
   "metadata": {
    "collapsed": false
   }
  },
  {
   "cell_type": "code",
   "execution_count": null,
   "source": [
    "## check PSD again - after bandpass, before down-sampling\n",
    "pipeline.alt_check_psd()\n",
    "pipeline.check_psd(fmax=35)\n",
    "# 60Hz is still visible"
   ],
   "outputs": [],
   "metadata": {
    "collapsed": false
   }
  },
  {
   "cell_type": "code",
   "execution_count": null,
   "source": [],
   "outputs": [],
   "metadata": {}
  },
  {
   "cell_type": "markdown",
   "source": [
    "# Beat and EOG Epoching"
   ],
   "metadata": {}
  },
  {
   "cell_type": "code",
   "execution_count": null,
   "source": [
    "#Doesn't work\n",
    "pipeline.generate_beat_events() # Note: this includes cue-beats !!!\n",
    "pipeline.beat_epochs.average().plot();"
   ],
   "outputs": [],
   "metadata": {
    "collapsed": false
   }
  },
  {
   "cell_type": "code",
   "execution_count": null,
   "source": [
    "#Can't test until generate beat events\n",
    "pipeline.find_eog_events()\n",
    "# wow - that's a lot of blinking"
   ],
   "outputs": [],
   "metadata": {
    "collapsed": false
   }
  },
  {
   "cell_type": "markdown",
   "source": [
    "# Down-Sampling"
   ],
   "metadata": {}
  },
  {
   "cell_type": "code",
   "execution_count": null,
   "source": [
    "#Can't test until generate beat events\n",
    "pipeline.downsample()"
   ],
   "outputs": [],
   "metadata": {
    "collapsed": false,
    "scrolled": true
   }
  },
  {
   "cell_type": "code",
   "execution_count": null,
   "source": [
    "## PSD after down-sampling:\n",
    "pipeline.check_psd(fmax=32)\n",
    "# looks less smooth than without down-sampling"
   ],
   "outputs": [],
   "metadata": {
    "collapsed": false
   }
  },
  {
   "cell_type": "code",
   "execution_count": null,
   "source": [
    "#Can't test until generate beat events\n",
    "# check events after after resampling -> should get the same result as above\n",
    "pipeline.check_resampled_trial_events(plot=True, verbose=False)"
   ],
   "outputs": [],
   "metadata": {
    "collapsed": false
   }
  },
  {
   "cell_type": "markdown",
   "source": [
    "# ICA"
   ],
   "metadata": {}
  },
  {
   "cell_type": "markdown",
   "source": [
    "Can't test anything yet"
   ],
   "metadata": {}
  },
  {
   "cell_type": "code",
   "execution_count": null,
   "source": [
    "pipeline.compute_ica(verbose=True)"
   ],
   "outputs": [],
   "metadata": {
    "collapsed": false
   }
  },
  {
   "cell_type": "code",
   "execution_count": null,
   "source": [
    "%matplotlib inline\n",
    "pipeline.plot_ica_components() # static plot"
   ],
   "outputs": [],
   "metadata": {
    "collapsed": false,
    "scrolled": false
   }
  },
  {
   "cell_type": "code",
   "execution_count": null,
   "source": [
    "pipeline.inspect_source_psd(1) # plot the PSD of an IC source to look for alpha activity\n",
    "pipeline.inspect_source_psd(2)"
   ],
   "outputs": [],
   "metadata": {
    "collapsed": false
   }
  },
  {
   "cell_type": "code",
   "execution_count": null,
   "source": [
    "pipeline.find_eog_artifact_sources(plot=True, verbose=False)"
   ],
   "outputs": [],
   "metadata": {
    "collapsed": false,
    "scrolled": true
   }
  },
  {
   "cell_type": "code",
   "execution_count": null,
   "source": [
    "pipeline.auto_detect_artifact_components()"
   ],
   "outputs": [],
   "metadata": {
    "collapsed": false
   }
  },
  {
   "cell_type": "code",
   "execution_count": null,
   "source": [
    "pipeline.select_artifact_sources(selection='auto')"
   ],
   "outputs": [],
   "metadata": {
    "collapsed": false,
    "scrolled": false
   }
  },
  {
   "cell_type": "code",
   "execution_count": null,
   "source": [
    "pipeline.exclude_ica_components(selection=[0, 1, 3,11]) # TODO: adapt selection list\n",
    "# use cells below to decide, which components to reject, then come back to this cell"
   ],
   "outputs": [],
   "metadata": {
    "collapsed": false,
    "scrolled": true
   }
  },
  {
   "cell_type": "code",
   "execution_count": null,
   "source": [
    "pipeline.inspect_ica_component(11, [0, 700])\n",
    "pipeline.inspect_source_epochs(11, mode='beats', vmax=5)\n",
    "pipeline.inspect_source_epochs(11, mode='eog', vmax=5)"
   ],
   "outputs": [],
   "metadata": {
    "collapsed": false,
    "scrolled": false
   }
  },
  {
   "cell_type": "code",
   "execution_count": null,
   "source": [
    "for ic in pipeline.suggested_artifact_components:\n",
    "# for ic in pipeline.ica.exclude:\n",
    "    pipeline.inspect_ica_component(ic, [0, 700])\n",
    "    pipeline.inspect_source_epochs(ic, mode='beats', vmax=5)\n",
    "    pipeline.inspect_source_epochs(ic, mode='eog', vmax=5)"
   ],
   "outputs": [],
   "metadata": {
    "collapsed": false,
    "scrolled": true
   }
  },
  {
   "cell_type": "code",
   "execution_count": null,
   "source": [
    "# enable this for interactive mode\n",
    "# %matplotlib tk\n",
    "\n",
    "# pipeline.plot_sources(mode='raw')   # this may take a while\n",
    "# pipeline.plot_sources(mode='beats')\n",
    "pipeline.plot_sources(mode='eog');"
   ],
   "outputs": [],
   "metadata": {
    "collapsed": false
   }
  },
  {
   "cell_type": "code",
   "execution_count": null,
   "source": [
    "# switch back to non-interactive inline mode\n",
    "%matplotlib inline"
   ],
   "outputs": [],
   "metadata": {
    "collapsed": false
   }
  },
  {
   "cell_type": "code",
   "execution_count": null,
   "source": [
    "pipeline.assess_unmixing_quality(verbose=False)"
   ],
   "outputs": [],
   "metadata": {
    "collapsed": false,
    "scrolled": false
   }
  },
  {
   "cell_type": "code",
   "execution_count": null,
   "source": [
    "pipeline.save_ica('100p_64c') # save for later"
   ],
   "outputs": [],
   "metadata": {
    "collapsed": false
   }
  },
  {
   "cell_type": "markdown",
   "source": [
    "# Application Test"
   ],
   "metadata": {}
  },
  {
   "cell_type": "code",
   "execution_count": null,
   "source": [
    "pipeline.load_ica('100p_64c')"
   ],
   "outputs": [],
   "metadata": {
    "collapsed": false
   }
  },
  {
   "cell_type": "code",
   "execution_count": null,
   "source": [
    "raw = pipeline.ica.apply(pipeline.raw, exclude=(pipeline.ica.exclude), copy=False)\n",
    "if len(raw.info['bads']) > 0:\n",
    "    raw.interpolate_bads_eeg() # interpolate bad channels afterwards as they are not processed by the ICA\n",
    "\n",
    "%matplotlib tk \n",
    "pipeline.plot_raw();\n",
    "pass"
   ],
   "outputs": [],
   "metadata": {
    "collapsed": false
   }
  }
 ],
 "metadata": {
  "kernelspec": {
   "name": "python3",
   "display_name": "Python 3.9.6 64-bit"
  },
  "language_info": {
   "name": "python",
   "version": "3.9.6",
   "mimetype": "text/x-python",
   "codemirror_mode": {
    "name": "ipython",
    "version": 3
   },
   "pygments_lexer": "ipython3",
   "nbconvert_exporter": "python",
   "file_extension": ".py"
  },
  "metadata": {
   "interpreter": {
    "hash": "00a2b76f02a65594c2cbf4c0f775558dbce7f9196f5c913a7056c53d367b4fae"
   }
  },
  "interpreter": {
   "hash": "aee8b7b246df8f9039afb4144a1f6fd8d2ca17a180786b69acc140d282b71a49"
  }
 },
 "nbformat": 4,
 "nbformat_minor": 2
}